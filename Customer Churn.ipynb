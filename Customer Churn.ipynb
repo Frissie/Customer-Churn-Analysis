{
 "cells": [
  {
   "cell_type": "markdown",
   "id": "f8d9825e",
   "metadata": {},
   "source": [
    "# Packages\n",
    "1. Pandas\n",
    "2. SciPy\n",
    "2. Seaborn"
   ]
  },
  {
   "cell_type": "code",
   "execution_count": 1,
   "id": "cbc2c7e5",
   "metadata": {},
   "outputs": [],
   "source": [
    "import pandas as pd\n",
    "import seaborn as sns\n",
    "import scipy as sp"
   ]
  },
  {
   "cell_type": "code",
   "execution_count": 2,
   "id": "bbe485c7",
   "metadata": {},
   "outputs": [],
   "source": [
    "# import data into df\n",
    "df = pd.read_csv(\"Customer-Churn.csv\")"
   ]
  }
 ],
 "metadata": {
  "kernelspec": {
   "display_name": "Customer-Churn-Analysis",
   "language": "python",
   "name": "python3"
  },
  "language_info": {
   "codemirror_mode": {
    "name": "ipython",
    "version": 3
   },
   "file_extension": ".py",
   "mimetype": "text/x-python",
   "name": "python",
   "nbconvert_exporter": "python",
   "pygments_lexer": "ipython3",
   "version": "3.13.2"
  }
 },
 "nbformat": 4,
 "nbformat_minor": 5
}
